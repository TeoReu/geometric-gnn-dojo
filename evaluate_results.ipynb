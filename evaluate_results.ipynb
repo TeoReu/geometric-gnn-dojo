{
 "cells": [
  {
   "cell_type": "code",
   "execution_count": 16,
   "metadata": {
    "collapsed": true
   },
   "outputs": [
    {
     "name": "stdout",
     "output_type": "stream",
     "text": [
      "Index(['Test MAE', 'Val MAE', 'Epoch', 'Model', 'Rewire', 'P', 'K', 'seed'], dtype='object')\n"
     ]
    }
   ],
   "source": [
    "import pandas as pd\n",
    "df = pd.read_csv ('results.cvs')\n",
    "print(df.columns)"
   ]
  },
  {
   "cell_type": "code",
   "execution_count": 17,
   "outputs": [
    {
     "name": "stdout",
     "output_type": "stream",
     "text": [
      "Validation MAE mean:\n",
      " Model  Rewire  P     K\n",
      "gvp    k0hop   0.00  2    0.002673\n",
      "                     3    0.005071\n",
      "                     4    0.002482\n",
      "               0.25  2    0.003842\n",
      "                     3    0.005747\n",
      "                     4    0.003646\n",
      "               0.50  2    0.007471\n",
      "                     3    0.008146\n",
      "                     4    0.007052\n",
      "       no      0.00  0    0.006974\n",
      "Name: Val MAE, dtype: float64\n",
      "\n",
      "Validation MAE std:\n",
      " Model  Rewire  P     K\n",
      "gvp    k0hop   0.00  2    0.000384\n",
      "                     3    0.003031\n",
      "                     4    0.000474\n",
      "               0.25  2    0.000487\n",
      "                     3    0.002614\n",
      "                     4    0.000509\n",
      "               0.50  2    0.000840\n",
      "                     3    0.001190\n",
      "                     4    0.002019\n",
      "       no      0.00  0    0.001723\n",
      "Name: Val MAE, dtype: float64\n",
      "Test MAE mean:\n",
      " Model  Rewire  P     K\n",
      "gvp    k0hop   0.00  2    0.002192\n",
      "                     3    0.002229\n",
      "                     4    0.002011\n",
      "               0.25  2    0.002859\n",
      "                     3    0.005033\n",
      "                     4    0.003704\n",
      "               0.50  2    0.004647\n",
      "                     3    0.004677\n",
      "                     4    0.006265\n",
      "       no      0.00  0    0.005099\n",
      "Name: Test MAE, dtype: float64\n",
      "\n",
      "Test MAE std:\n",
      " Model  Rewire  P     K\n",
      "gvp    k0hop   0.00  2    0.000262\n",
      "                     3    0.000934\n",
      "                     4    0.000699\n",
      "               0.25  2    0.001444\n",
      "                     3    0.002032\n",
      "                     4    0.000342\n",
      "               0.50  2    0.001870\n",
      "                     3    0.002625\n",
      "                     4    0.003666\n",
      "       no      0.00  0    0.001141\n",
      "Name: Test MAE, dtype: float64\n"
     ]
    }
   ],
   "source": [
    "# Extract the rows with epoch 100 and group by model and rewire\n",
    "epoch_100_df = df[df[\"Epoch\"] == 100].groupby(['Model', 'Rewire', 'P', 'K'])\n",
    "\n",
    "# Calculate the mean and standard deviation of the validation MAE over the used seeds\n",
    "val_mae_mean = epoch_100_df['Val MAE'].mean()\n",
    "val_mae_std = epoch_100_df['Val MAE'].std()\n",
    "\n",
    "test_mae_mean = epoch_100_df['Test MAE'].mean()\n",
    "test_mae_std = epoch_100_df['Test MAE'].std()\n",
    "# Print the results\n",
    "print('Validation MAE mean:\\n', val_mae_mean)\n",
    "print('\\nValidation MAE std:\\n', val_mae_std)\n",
    "\n",
    "print('Test MAE mean:\\n', test_mae_mean)\n",
    "print('\\nTest MAE std:\\n', test_mae_std)"
   ],
   "metadata": {
    "collapsed": false,
    "pycharm": {
     "name": "#%%\n"
    }
   }
  },
  {
   "cell_type": "code",
   "execution_count": 12,
   "outputs": [
    {
     "name": "stdout",
     "output_type": "stream",
     "text": [
      "Index(['Test MAE', 'Val MAE', 'Epoch', 'Model', 'Rewire', 'P', 'K', 'seed'], dtype='object')\n"
     ]
    }
   ],
   "source": [
    "import pandas as pd\n",
    "df = pd.read_csv ('results_carbon.cvs')\n",
    "print(df.columns)"
   ],
   "metadata": {
    "collapsed": false,
    "pycharm": {
     "name": "#%%\n"
    }
   }
  },
  {
   "cell_type": "code",
   "execution_count": 15,
   "outputs": [
    {
     "name": "stdout",
     "output_type": "stream",
     "text": [
      "Validation MAE mean:\n",
      " Model  Rewire  P     K   \n",
      "gvp    c2a     0.00  no_k    0.003625\n",
      "               0.10  no_k    0.002903\n",
      "               0.25  no_k    0.004680\n",
      "               0.50  no_k    0.005392\n",
      "       c2c     0.00  no_k    0.003388\n",
      "               0.10  no_k    0.004363\n",
      "               0.25  no_k    0.006634\n",
      "               0.50  no_k    0.008699\n",
      "Name: Val MAE, dtype: float64\n",
      "\n",
      "Validation MAE std:\n",
      " Model  Rewire  P     K   \n",
      "gvp    c2a     0.00  no_k    0.001011\n",
      "               0.10  no_k    0.001126\n",
      "               0.25  no_k    0.001960\n",
      "               0.50  no_k    0.001937\n",
      "       c2c     0.00  no_k    0.000462\n",
      "               0.10  no_k    0.001667\n",
      "               0.25  no_k    0.000749\n",
      "               0.50  no_k    0.002664\n",
      "Name: Val MAE, dtype: float64\n",
      "Test MAE mean:\n",
      " Model  Rewire  P     K   \n",
      "gvp    c2a     0.00  no_k    0.002471\n",
      "               0.10  no_k    0.002292\n",
      "               0.25  no_k    0.003355\n",
      "               0.50  no_k    0.002955\n",
      "       c2c     0.00  no_k    0.002741\n",
      "               0.10  no_k    0.004291\n",
      "               0.25  no_k    0.005588\n",
      "               0.50  no_k    0.005608\n",
      "Name: Test MAE, dtype: float64\n",
      "\n",
      "Test MAE std:\n",
      " Model  Rewire  P     K   \n",
      "gvp    c2a     0.00  no_k    0.001386\n",
      "               0.10  no_k    0.000947\n",
      "               0.25  no_k    0.001768\n",
      "               0.50  no_k    0.000200\n",
      "       c2c     0.00  no_k    0.000434\n",
      "               0.10  no_k    0.000956\n",
      "               0.25  no_k    0.003143\n",
      "               0.50  no_k    0.001116\n",
      "Name: Test MAE, dtype: float64\n"
     ]
    }
   ],
   "source": [
    "# Extract the rows with epoch 100 and group by model and rewire\n",
    "epoch_100_df = df[df[\"Epoch\"] == 100].groupby(['Model', 'Rewire', 'P', 'K'])\n",
    "\n",
    "# Calculate the mean and standard deviation of the validation MAE over the used seeds\n",
    "val_mae_mean = epoch_100_df['Val MAE'].mean()\n",
    "val_mae_std = epoch_100_df['Val MAE'].std()\n",
    "\n",
    "test_mae_mean = epoch_100_df['Test MAE'].mean()\n",
    "test_mae_std = epoch_100_df['Test MAE'].std()\n",
    "# Print the results\n",
    "print('Validation MAE mean:\\n', val_mae_mean)\n",
    "print('\\nValidation MAE std:\\n', val_mae_std)\n",
    "\n",
    "print('Test MAE mean:\\n', test_mae_mean)\n",
    "print('\\nTest MAE std:\\n', test_mae_std)"
   ],
   "metadata": {
    "collapsed": false,
    "pycharm": {
     "name": "#%%\n"
    }
   }
  },
  {
   "cell_type": "code",
   "execution_count": 18,
   "outputs": [
    {
     "name": "stdout",
     "output_type": "stream",
     "text": [
      "Index(['Test MAE', 'Val MAE', 'Epoch', 'Model', 'Rewire', 'P', 'K', 'seed'], dtype='object')\n"
     ]
    }
   ],
   "source": [
    "import pandas as pd\n",
    "df = pd.read_csv ('gambel_results.csv')\n",
    "print(df.columns)"
   ],
   "metadata": {
    "collapsed": false,
    "pycharm": {
     "name": "#%%\n"
    }
   }
  },
  {
   "cell_type": "code",
   "execution_count": 19,
   "outputs": [
    {
     "name": "stdout",
     "output_type": "stream",
     "text": [
      "Validation MAE mean:\n",
      " Model  Rewire      P     K   \n",
      "gvp    gumbel+c2a  0.00  no_k    0.003094\n",
      "                   0.10  no_k    0.004757\n",
      "                   0.25  no_k    0.006775\n",
      "                   0.50  no_k    0.009474\n",
      "       gumbel+c2c  0.00  no_k    0.012284\n",
      "                   0.10  no_k    0.011111\n",
      "                   0.25  no_k    0.009287\n",
      "                   0.50  no_k    0.012325\n",
      "Name: Val MAE, dtype: float64\n",
      "\n",
      "Validation MAE std:\n",
      " Model  Rewire      P     K   \n",
      "gvp    gumbel+c2a  0.00  no_k    0.000852\n",
      "                   0.10  no_k    0.001370\n",
      "                   0.25  no_k    0.001674\n",
      "                   0.50  no_k    0.000819\n",
      "       gumbel+c2c  0.00  no_k    0.007019\n",
      "                   0.10  no_k    0.004402\n",
      "                   0.25  no_k    0.004268\n",
      "                   0.50  no_k    0.003330\n",
      "Name: Val MAE, dtype: float64\n",
      "Test MAE mean:\n",
      " Model  Rewire      P     K   \n",
      "gvp    gumbel+c2a  0.00  no_k    0.002873\n",
      "                   0.10  no_k    0.003558\n",
      "                   0.25  no_k    0.003595\n",
      "                   0.50  no_k    0.005812\n",
      "       gumbel+c2c  0.00  no_k    0.009041\n",
      "                   0.10  no_k    0.006124\n",
      "                   0.25  no_k    0.007499\n",
      "                   0.50  no_k    0.009051\n",
      "Name: Test MAE, dtype: float64\n",
      "\n",
      "Test MAE std:\n",
      " Model  Rewire      P     K   \n",
      "gvp    gumbel+c2a  0.00  no_k    0.000726\n",
      "                   0.10  no_k    0.001090\n",
      "                   0.25  no_k    0.000884\n",
      "                   0.50  no_k    0.003145\n",
      "       gumbel+c2c  0.00  no_k    0.005668\n",
      "                   0.10  no_k    0.001780\n",
      "                   0.25  no_k    0.005353\n",
      "                   0.50  no_k    0.001291\n",
      "Name: Test MAE, dtype: float64\n"
     ]
    }
   ],
   "source": [
    "# Extract the rows with epoch 100 and group by model and rewire\n",
    "epoch_100_df = df[df[\"Epoch\"] == 100].groupby(['Model', 'Rewire', 'P', 'K'])\n",
    "\n",
    "# Calculate the mean and standard deviation of the validation MAE over the used seeds\n",
    "val_mae_mean = epoch_100_df['Val MAE'].mean()\n",
    "val_mae_std = epoch_100_df['Val MAE'].std()\n",
    "\n",
    "test_mae_mean = epoch_100_df['Test MAE'].mean()\n",
    "test_mae_std = epoch_100_df['Test MAE'].std()\n",
    "# Print the results\n",
    "print('Validation MAE mean:\\n', val_mae_mean)\n",
    "print('\\nValidation MAE std:\\n', val_mae_std)\n",
    "\n",
    "print('Test MAE mean:\\n', test_mae_mean)\n",
    "print('\\nTest MAE std:\\n', test_mae_std)"
   ],
   "metadata": {
    "collapsed": false,
    "pycharm": {
     "name": "#%%\n"
    }
   }
  },
  {
   "cell_type": "code",
   "execution_count": null,
   "outputs": [],
   "source": [],
   "metadata": {
    "collapsed": false,
    "pycharm": {
     "name": "#%%\n"
    }
   }
  }
 ],
 "metadata": {
  "kernelspec": {
   "display_name": "Python 3",
   "language": "python",
   "name": "python3"
  },
  "language_info": {
   "codemirror_mode": {
    "name": "ipython",
    "version": 2
   },
   "file_extension": ".py",
   "mimetype": "text/x-python",
   "name": "python",
   "nbconvert_exporter": "python",
   "pygments_lexer": "ipython2",
   "version": "2.7.6"
  }
 },
 "nbformat": 4,
 "nbformat_minor": 0
}