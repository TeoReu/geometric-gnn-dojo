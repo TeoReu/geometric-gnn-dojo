{
 "cells": [
  {
   "cell_type": "code",
   "execution_count": 1,
   "metadata": {
    "collapsed": true
   },
   "outputs": [],
   "source": [
    "from src.utils.other import SetTarget, CompleteGraph\n",
    "import torch_geometric.transforms as T\n",
    "\n",
    "from torch_geometric.datasets import QM9\n",
    "\n",
    "sparse_dataset = QM9('./qm9', transform=SetTarget())\n",
    "transform = T.Compose([CompleteGraph(), SetTarget()])\n",
    "full_dataset = QM9('./qm9', transform=transform)\n"
   ]
  },
  {
   "cell_type": "code",
   "execution_count": 2,
   "outputs": [],
   "source": [
    "dataset = sparse_dataset[:1000]\n",
    "full_dataset = full_dataset[:1000]"
   ],
   "metadata": {
    "collapsed": false,
    "pycharm": {
     "name": "#%%\n"
    }
   }
  },
  {
   "cell_type": "code",
   "execution_count": 3,
   "outputs": [],
   "source": [
    "from scipy.sparse.linalg import eigsh\n",
    "import torch\n",
    "from torch_geometric.utils import to_dense_adj, get_laplacian\n",
    "from torch_sparse import SparseTensor\n",
    "\n",
    "\n",
    "def compute_first_eigenvalue(data_list):\n",
    "    first_eigenvalues = []\n",
    "    for data in data_list:\n",
    "        edge_index = data.edge_index\n",
    "        num_nodes = data.num_nodes\n",
    "        #adj = SparseTensor(row=edge_index[0], col=edge_index[1], sparse_sizes=(num_nodes, num_nodes))\n",
    "        A = to_dense_adj(edge_index)[0]\n",
    "        degrees = torch.sum(A, dim=1).unsqueeze(-1)\n",
    "        I = torch.eye(num_nodes)\n",
    "        D = torch.pow(degrees, -0.5).squeeze()\n",
    "        D = torch.diag(D)\n",
    "        lap_sym = I - torch.mm(torch.mm(D, A), D)\n",
    "\n",
    "        eigenvalues = torch.sort(torch.real(torch.linalg.eigvals(lap_sym)))\n",
    "        first_pos_eigenvalue = eigenvalues[0][1]\n",
    "        first_eigenvalues.append(first_pos_eigenvalue)\n",
    "    return first_eigenvalues\n",
    "\n",
    "def compute_density(data_list):\n",
    "    density_list = []\n",
    "    for data in data_list:\n",
    "        nodes = data.num_nodes\n",
    "        edges = data.num_edges\n",
    "        density = 2 * edges / (nodes * (nodes - 1))\n",
    "        density_list.append(density)\n",
    "\n",
    "    return density_list\n",
    "\n",
    "no_rewire = compute_first_eigenvalue(dataset)\n",
    "no_rewire = compute_density(dataset)\n"
   ],
   "metadata": {
    "collapsed": false,
    "pycharm": {
     "name": "#%%\n"
    }
   }
  },
  {
   "cell_type": "code",
   "execution_count": 21,
   "outputs": [],
   "source": [
    "from src.utils.rewire_utils import rewire_dataset_k0hop\n",
    "\n",
    "new_dataset = rewire_dataset_k0hop(dataset, 3, 0.25)\n",
    "k0_hop = compute_first_eigenvalue(new_dataset)"
   ],
   "metadata": {
    "collapsed": false,
    "pycharm": {
     "name": "#%%\n"
    }
   }
  },
  {
   "cell_type": "code",
   "execution_count": 22,
   "outputs": [],
   "source": [
    "from src.utils.rewire_utils import  carbon_processing\n",
    "\n",
    "new_dataset = carbon_processing(full_dataset, dataset, 'c2c',0.25)\n",
    "c2c = compute_first_eigenvalue(new_dataset)"
   ],
   "metadata": {
    "collapsed": false,
    "pycharm": {
     "name": "#%%\n"
    }
   }
  },
  {
   "cell_type": "code",
   "execution_count": 23,
   "outputs": [],
   "source": [
    "from src.utils.rewire_utils import  carbon_processing\n",
    "\n",
    "new_dataset = carbon_processing(full_dataset, dataset, 'c2a',0.25)\n",
    "c2a = compute_first_eigenvalue(new_dataset)"
   ],
   "metadata": {
    "collapsed": false,
    "pycharm": {
     "name": "#%%\n"
    }
   }
  },
  {
   "cell_type": "code",
   "execution_count": 27,
   "outputs": [
    {
     "data": {
      "text/plain": "<Figure size 640x480 with 1 Axes>",
      "image/png": "[encoded data removed]"
     },
     "metadata": {},
     "output_type": "display_data"
    }
   ],
   "source": [
    "import matplotlib.pyplot as plt\n",
    "import numpy as np\n",
    "\n",
    "\n",
    "# Plot the histograms\n",
    "plt.hist(np.array(no_rewire), alpha=0.5, label='No Rewiring')\n",
    "plt.hist(np.array(k0_hop), alpha=0.5, label= 'k0_hop')\n",
    "plt.hist(np.array(c2c), alpha=0.5, label='c2c')\n",
    "plt.hist(np.array(c2a), alpha=0.5, label='c2a')\n",
    "\n",
    "\n",
    "# Add axis labels and title\n",
    "plt.xlabel('$\\lambda_1$ Value')\n",
    "plt.ylabel('Frequency')\n",
    "plt.title('Distribution of $\\lambda_1$ for various Rewirings')\n",
    "\n",
    "# Add a legend\n",
    "plt.legend()\n",
    "\n",
    "# Display the plot\n",
    "plt.show()"
   ],
   "metadata": {
    "collapsed": false,
    "pycharm": {
     "name": "#%%\n"
    }
   }
  },
  {
   "cell_type": "code",
   "execution_count": 28,
   "outputs": [
    {
     "data": {
      "text/plain": "<Figure size 640x480 with 0 Axes>"
     },
     "metadata": {},
     "output_type": "display_data"
    }
   ],
   "source": [
    "plt.savefig('lambda1_distr.png')"
   ],
   "metadata": {
    "collapsed": false,
    "pycharm": {
     "name": "#%%\n"
    }
   }
  },
  {
   "cell_type": "code",
   "execution_count": 4,
   "outputs": [],
   "source": [
    "from src.utils.rewire_utils import rewire_dataset_k0hop\n",
    "\n",
    "new_dataset = rewire_dataset_k0hop(dataset, 3, 0.25)\n",
    "k0_hop = compute_density(new_dataset)"
   ],
   "metadata": {
    "collapsed": false,
    "pycharm": {
     "name": "#%%\n"
    }
   }
  },
  {
   "cell_type": "code",
   "execution_count": 5,
   "outputs": [],
   "source": [
    "from src.utils.rewire_utils import  carbon_processing\n",
    "\n",
    "new_dataset = carbon_processing(full_dataset, dataset, 'c2c',0.25)\n",
    "c2c = compute_density(new_dataset)"
   ],
   "metadata": {
    "collapsed": false,
    "pycharm": {
     "name": "#%%\n"
    }
   }
  },
  {
   "cell_type": "code",
   "execution_count": 6,
   "outputs": [],
   "source": [
    "from src.utils.rewire_utils import  carbon_processing\n",
    "\n",
    "new_dataset = carbon_processing(full_dataset, dataset, 'c2a',0.25)\n",
    "c2a = compute_density(new_dataset)"
   ],
   "metadata": {
    "collapsed": false,
    "pycharm": {
     "name": "#%%\n"
    }
   }
  },
  {
   "cell_type": "code",
   "execution_count": 12,
   "outputs": [
    {
     "data": {
      "text/plain": "<Figure size 640x480 with 1 Axes>",
      "image/png": "[encoded data removed]"
     },
     "metadata": {},
     "output_type": "display_data"
    }
   ],
   "source": [
    "import matplotlib.pyplot as plt\n",
    "import numpy as np\n",
    "\n",
    "\n",
    "# Plot the histograms\n",
    "plt.hist(np.array(no_rewire)/2, alpha=0.5, label='No Rewiring')\n",
    "plt.hist(np.array(k0_hop)/2, alpha=0.5, label= 'k0_hop')\n",
    "plt.hist(np.array(c2c)/2, alpha=0.5, label='c2c')\n",
    "plt.hist(np.array(c2a)/2, alpha=0.5, label='c2a')\n",
    "\n",
    "\n",
    "# Add axis labels and title\n",
    "plt.xlabel('Density Value')\n",
    "plt.ylabel('Frequency')\n",
    "plt.title('Distribution of densities for various rewirings')\n",
    "\n",
    "# Add a legend\n",
    "plt.legend()\n",
    "\n",
    "# Display the plot\n",
    "plt.savefig('density_distr.png')"
   ],
   "metadata": {
    "collapsed": false,
    "pycharm": {
     "name": "#%%\n"
    }
   }
  },
  {
   "cell_type": "code",
   "execution_count": 11,
   "outputs": [
    {
     "data": {
      "text/plain": "<Figure size 640x480 with 0 Axes>"
     },
     "metadata": {},
     "output_type": "display_data"
    }
   ],
   "source": [
    "plt.savefig('density_distr.png')"
   ],
   "metadata": {
    "collapsed": false,
    "pycharm": {
     "name": "#%%\n"
    }
   }
  },
  {
   "cell_type": "code",
   "execution_count": 21,
   "outputs": [
    {
     "name": "stdout",
     "output_type": "stream",
     "text": [
      "6.189466666666666\n"
     ]
    }
   ],
   "source": [
    "import networkx as nx\n",
    "from torch_geometric.utils import to_networkx\n",
    "\n",
    "dataset = sparse_dataset[15000:30000]\n",
    "diameters = []\n",
    "for data in dataset:\n",
    "    g = to_networkx(data)\n",
    "    diameters.append(nx.diameter(g))\n",
    "\n",
    "print(sum(diameters)/len(diameters))"
   ],
   "metadata": {
    "collapsed": false,
    "pycharm": {
     "name": "#%%\n"
    }
   }
  },
  {
   "cell_type": "code",
   "execution_count": null,
   "outputs": [],
   "source": [],
   "metadata": {
    "collapsed": false,
    "pycharm": {
     "name": "#%%\n"
    }
   }
  }
 ],
 "metadata": {
  "kernelspec": {
   "display_name": "Python 3",
   "language": "python",
   "name": "python3"
  },
  "language_info": {
   "codemirror_mode": {
    "name": "ipython",
    "version": 2
   },
   "file_extension": ".py",
   "mimetype": "text/x-python",
   "name": "python",
   "nbconvert_exporter": "python",
   "pygments_lexer": "ipython2",
   "version": "2.7.6"
  }
 },
 "nbformat": 4,
 "nbformat_minor": 0
}